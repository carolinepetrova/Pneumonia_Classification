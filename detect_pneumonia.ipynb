{
 "cells": [
  {
   "cell_type": "code",
   "execution_count": 13,
   "metadata": {},
   "outputs": [],
   "source": [
    "import glob\n",
    "\n",
    "import tensorflow as tf\n",
    "import numpy as np\n",
    "import pandas as pd\n",
    "import cv2\n",
    "import imutils\n",
    "import random\n",
    "from tensorflow import keras\n",
    "from tensorflow.keras.models import Model, Sequential\n",
    "from tensorflow.keras.layers import Input,Dense, Conv2D, MaxPooling2D, Flatten, Dropout, BatchNormalization, ZeroPadding2D,MaxPool2D,SeparableConv2D\n",
    "from tensorflow.keras.preprocessing.image import ImageDataGenerator\n",
    "from tensorflow.keras.callbacks import ModelCheckpoint, ReduceLROnPlateau, EarlyStopping\n",
    "from sklearn.utils import class_weight\n",
    "import matplotlib.pyplot as plt\n",
    "import matplotlib.cm as cm\n",
    "from IPython.display import Image\n",
    "\n",
    "from sklearn.metrics import confusion_matrix, classification_report\n"
   ]
  },
  {
   "cell_type": "code",
   "execution_count": 2,
   "metadata": {},
   "outputs": [],
   "source": [
    "PATH = './chest_xray/'\n",
    "\n",
    "TRAIN_DATA_DIR = PATH + 'train'\n",
    "TEST_DATA_DIR = PATH + 'test'\n",
    "VAL_DATA_DIR = PATH + 'val'\n",
    "\n",
    "\n",
    "TRAIN_DATA_NORMAL_FILE = PATH + 'train/NORMAL/'\n",
    "TRAIN_DATA_PNEUMONIA_FILE = PATH + 'train/PNEUMONIA/'\n",
    "VAL_DATA_NORMAL_FILE = PATH + 'val/NORMAL/'\n",
    "VAL_DATA_PNEUMONIA_FILE = PATH + 'val/PNEUMONIA/'\n",
    "TEST_DATA_NORMAL_FILE = PATH + 'test/NORMAL/'\n",
    "TEST_DATA_PNEUMONIA_FILE = PATH + 'test/PNEUMONIA/'\n",
    "\n",
    "IMAGE_SIZE = (256,256)\n",
    "BATCH_SIZE = 32\n",
    "EPOCHS = 10\n",
    "\n",
    "\n",
    "train_data_normal = glob.glob(TRAIN_DATA_NORMAL_FILE + '*jpeg')\n",
    "train_data_pneumonia = glob.glob(TRAIN_DATA_PNEUMONIA_FILE + '*jpeg')\n",
    "val_data_normal = glob.glob(VAL_DATA_NORMAL_FILE + '*jpeg')\n",
    "val_data_pneumonia = glob.glob(VAL_DATA_PNEUMONIA_FILE + '*jpeg')\n",
    "test_data_normal = glob.glob(TEST_DATA_NORMAL_FILE + '*jpeg')\n",
    "test_data_pneumonia = glob.glob(TEST_DATA_PNEUMONIA_FILE + '*jpeg')"
   ]
  },
  {
   "cell_type": "code",
   "execution_count": 3,
   "metadata": {},
   "outputs": [],
   "source": [
    "train_data_generator = ImageDataGenerator(rescale = 1/255)\n",
    "\n",
    "test_data_generator = ImageDataGenerator(rescale = 1/255)"
   ]
  },
  {
   "cell_type": "code",
   "execution_count": 4,
   "metadata": {},
   "outputs": [
    {
     "name": "stdout",
     "output_type": "stream",
     "text": [
      "Found 6788 images belonging to 2 classes.\n",
      "Found 1172 images belonging to 2 classes.\n"
     ]
    }
   ],
   "source": [
    "\n",
    "train_generator = train_data_generator.flow_from_directory(\n",
    "        TRAIN_DATA_DIR,\n",
    "        target_size = IMAGE_SIZE,\n",
    "        batch_size = BATCH_SIZE,\n",
    "        class_mode = 'binary')\n",
    "\n",
    "test_generator = test_data_generator.flow_from_directory(\n",
    "        VAL_DATA_DIR,\n",
    "        target_size = IMAGE_SIZE,\n",
    "        batch_size = BATCH_SIZE,\n",
    "        class_mode = 'binary')"
   ]
  },
  {
   "cell_type": "code",
   "execution_count": 17,
   "metadata": {},
   "outputs": [
    {
     "name": "stdout",
     "output_type": "stream",
     "text": [
      "Model: \"sequential_1\"\n",
      "_________________________________________________________________\n",
      "Layer (type)                 Output Shape              Param #   \n",
      "=================================================================\n",
      "conv2d_5 (Conv2D)            (None, 256, 256, 8)       224       \n",
      "_________________________________________________________________\n",
      "max_pooling2d_5 (MaxPooling2 (None, 85, 85, 8)         0         \n",
      "_________________________________________________________________\n",
      "conv2d_6 (Conv2D)            (None, 85, 85, 16)        1168      \n",
      "_________________________________________________________________\n",
      "max_pooling2d_6 (MaxPooling2 (None, 28, 28, 16)        0         \n",
      "_________________________________________________________________\n",
      "conv2d_7 (Conv2D)            (None, 28, 28, 32)        4640      \n",
      "_________________________________________________________________\n",
      "max_pooling2d_7 (MaxPooling2 (None, 14, 14, 32)        0         \n",
      "_________________________________________________________________\n",
      "conv2d_8 (Conv2D)            (None, 14, 14, 64)        18496     \n",
      "_________________________________________________________________\n",
      "max_pooling2d_8 (MaxPooling2 (None, 7, 7, 64)          0         \n",
      "_________________________________________________________________\n",
      "conv2d_9 (Conv2D)            (None, 7, 7, 128)         73856     \n",
      "_________________________________________________________________\n",
      "max_pooling2d_9 (MaxPooling2 (None, 3, 3, 128)         0         \n",
      "_________________________________________________________________\n",
      "flatten_1 (Flatten)          (None, 1152)              0         \n",
      "_________________________________________________________________\n",
      "dense_2 (Dense)              (None, 128)               147584    \n",
      "_________________________________________________________________\n",
      "dense_3 (Dense)              (None, 1)                 129       \n",
      "=================================================================\n",
      "Total params: 246,097\n",
      "Trainable params: 246,097\n",
      "Non-trainable params: 0\n",
      "_________________________________________________________________\n"
     ]
    }
   ],
   "source": [
    "model = tf.keras.models.Sequential([\n",
    "\n",
    "    tf.keras.layers.Conv2D(8, (3,3), padding='same', activation='relu', input_shape=(256,256,3)),\n",
    "    tf.keras.layers.MaxPool2D(3,3),\n",
    "    \n",
    "    # CNN Layer 1\n",
    "    tf.keras.layers.Conv2D(16, (3,3), padding='same', activation='relu'),\n",
    "    tf.keras.layers.MaxPool2D(3,3),\n",
    "    # CNN Layer 2\n",
    "    tf.keras.layers.Conv2D(32, (3,3), padding='same', activation='relu'),\n",
    "    tf.keras.layers.MaxPooling2D(2,2),\n",
    "\n",
    "    # CNN Layer 3\n",
    "    tf.keras.layers.Conv2D(64, (3,3), padding='same', activation='relu'),\n",
    "    tf.keras.layers.MaxPooling2D(2,2),\n",
    "\n",
    "    # CNN Layer 4\n",
    "    tf.keras.layers.Conv2D(128, (3,3), padding='same', activation='relu'),\n",
    "    tf.keras.layers.MaxPooling2D((2, 2)),\n",
    "\n",
    "    # Layer 6\n",
    "    tf.keras.layers.Flatten(),\n",
    "    tf.keras.layers.Dense(128, activation='relu'),\n",
    "    tf.keras.layers.Dense(1, activation='sigmoid')\n",
    "])\n",
    "\n",
    "model.summary()"
   ]
  },
  {
   "cell_type": "code",
   "execution_count": 6,
   "metadata": {},
   "outputs": [],
   "source": [
    "from tensorflow.keras.optimizers import RMSprop\n",
    "model.compile(loss='binary_crossentropy',optimizer=RMSprop(lr=0.0001),metrics=['accuracy'])"
   ]
  },
  {
   "cell_type": "code",
   "execution_count": 7,
   "metadata": {},
   "outputs": [
    {
     "name": "stdout",
     "output_type": "stream",
     "text": [
      "Epoch 1/10\n",
      "213/213 [==============================] - 127s 594ms/step - loss: 0.5939 - accuracy: 0.7203 - val_loss: 0.3108 - val_accuracy: 0.8882\n",
      "\n",
      "Epoch 00001: val_loss improved from inf to 0.31075, saving model to detect_pneumonia.h5\n",
      "Epoch 2/10\n",
      "213/213 [==============================] - 122s 574ms/step - loss: 0.2901 - accuracy: 0.8925 - val_loss: 0.1925 - val_accuracy: 0.9386\n",
      "\n",
      "Epoch 00002: val_loss improved from 0.31075 to 0.19249, saving model to detect_pneumonia.h5\n",
      "Epoch 3/10\n",
      "213/213 [==============================] - 135s 633ms/step - loss: 0.2253 - accuracy: 0.9119 - val_loss: 0.2078 - val_accuracy: 0.9104\n",
      "\n",
      "Epoch 00003: val_loss did not improve from 0.19249\n",
      "\n",
      "Epoch 00003: ReduceLROnPlateau reducing learning rate to 2.9999999242136255e-05.\n",
      "Epoch 4/10\n",
      "213/213 [==============================] - 140s 657ms/step - loss: 0.1753 - accuracy: 0.9315 - val_loss: 0.1388 - val_accuracy: 0.9480\n",
      "\n",
      "Epoch 00004: val_loss improved from 0.19249 to 0.13879, saving model to detect_pneumonia.h5\n",
      "Epoch 5/10\n",
      "213/213 [==============================] - 141s 661ms/step - loss: 0.1659 - accuracy: 0.9363 - val_loss: 0.1391 - val_accuracy: 0.9505\n",
      "\n",
      "Epoch 00005: val_loss did not improve from 0.13879\n",
      "\n",
      "Epoch 00005: ReduceLROnPlateau reducing learning rate to 8.999999772640877e-06.\n",
      "Epoch 6/10\n",
      "213/213 [==============================] - 143s 670ms/step - loss: 0.1547 - accuracy: 0.9427 - val_loss: 0.1317 - val_accuracy: 0.9497\n",
      "\n",
      "Epoch 00006: val_loss improved from 0.13879 to 0.13167, saving model to detect_pneumonia.h5\n",
      "Epoch 7/10\n",
      "213/213 [==============================] - 146s 685ms/step - loss: 0.1524 - accuracy: 0.9398 - val_loss: 0.1294 - val_accuracy: 0.9505\n",
      "\n",
      "Epoch 00007: val_loss improved from 0.13167 to 0.12940, saving model to detect_pneumonia.h5\n",
      "\n",
      "Epoch 00007: ReduceLROnPlateau reducing learning rate to 2.6999998226528985e-06.\n",
      "Epoch 8/10\n",
      "213/213 [==============================] - 148s 693ms/step - loss: 0.1407 - accuracy: 0.9477 - val_loss: 0.1284 - val_accuracy: 0.9497\n",
      "\n",
      "Epoch 00008: val_loss improved from 0.12940 to 0.12844, saving model to detect_pneumonia.h5\n",
      "Epoch 9/10\n",
      "213/213 [==============================] - 146s 687ms/step - loss: 0.1506 - accuracy: 0.9445 - val_loss: 0.1293 - val_accuracy: 0.9480\n",
      "\n",
      "Epoch 00009: val_loss did not improve from 0.12844\n",
      "\n",
      "Epoch 00009: ReduceLROnPlateau reducing learning rate to 8.099999604382901e-07.\n",
      "Epoch 10/10\n",
      "213/213 [==============================] - 146s 686ms/step - loss: 0.1433 - accuracy: 0.9450 - val_loss: 0.1291 - val_accuracy: 0.9497\n",
      "\n",
      "Epoch 00010: val_loss did not improve from 0.12844\n"
     ]
    }
   ],
   "source": [
    "\n",
    "checkpoint = ModelCheckpoint('detect_pneumonia.h5', monitor='val_loss', verbose=1, save_best_only=True, mode='auto')\n",
    "lr_reduce = ReduceLROnPlateau(monitor='val_loss', factor=0.3, patience=2, verbose=2, mode='max')\n",
    "\n",
    "history=model.fit(train_generator, \n",
    "                  epochs = EPOCHS, \n",
    "                  validation_data = test_generator, \n",
    "                  callbacks=[checkpoint,lr_reduce])"
   ]
  },
  {
   "cell_type": "code",
   "execution_count": 8,
   "metadata": {},
   "outputs": [
    {
     "data": {
      "text/plain": [
       "<Figure size 432x288 with 0 Axes>"
      ]
     },
     "execution_count": 8,
     "metadata": {},
     "output_type": "execute_result"
    },
    {
     "data": {
      "image/png": "[encoded data removed]",
      "text/plain": [
       "<Figure size 432x288 with 1 Axes>"
      ]
     },
     "metadata": {
      "needs_background": "light"
     },
     "output_type": "display_data"
    },
    {
     "data": {
      "text/plain": [
       "<Figure size 432x288 with 0 Axes>"
      ]
     },
     "metadata": {},
     "output_type": "display_data"
    }
   ],
   "source": [
    "acc = history.history['accuracy']\n",
    "val_acc = history.history['val_accuracy']\n",
    "\n",
    "loss = history.history['loss']\n",
    "val_loss = history.history['val_loss']\n",
    "\n",
    "\n",
    "epochs = range(len(acc))\n",
    "\n",
    "plt.plot(range(0, 1))\n",
    "plt.plot(epochs, acc, 'r', label='Training accuracy')\n",
    "plt.plot(epochs, val_acc, 'b', label='Validation accuracy')\n",
    "plt.title('Training and validation accuracy')\n",
    "plt.legend()\n",
    "plt.figure()\n"
   ]
  },
  {
   "cell_type": "code",
   "execution_count": 11,
   "metadata": {},
   "outputs": [
    {
     "name": "stdout",
     "output_type": "stream",
     "text": [
      "Found 586 images belonging to 2 classes.\n",
      "Accuracy: 0.935153603553772\n"
     ]
    }
   ],
   "source": [
    "\n",
    "test_generator = test_data_generator.flow_from_directory(\n",
    "        TEST_DATA_DIR,\n",
    "        target_size = IMAGE_SIZE,\n",
    "        batch_size = BATCH_SIZE,\n",
    "        class_mode = 'binary')\n",
    "\n",
    "test_generator.class_indices\n",
    "result = model.evaluate_generator(test_generator)\n",
    "print(\"Accuracy: {}\".format(result[1]))"
   ]
  },
  {
   "cell_type": "code",
   "execution_count": null,
   "metadata": {},
   "outputs": [],
   "source": []
  }
 ],
 "metadata": {
  "kernelspec": {
   "display_name": "AI_project",
   "language": "python",
   "name": "ai_project"
  },
  "language_info": {
   "codemirror_mode": {
    "name": "ipython",
    "version": 3
   },
   "file_extension": ".py",
   "mimetype": "text/x-python",
   "name": "python",
   "nbconvert_exporter": "python",
   "pygments_lexer": "ipython3",
   "version": "3.8.5"
  }
 },
 "nbformat": 4,
 "nbformat_minor": 4
}
