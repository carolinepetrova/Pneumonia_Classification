{
 "cells": [
  {
   "cell_type": "code",
   "execution_count": 36,
   "metadata": {},
   "outputs": [],
   "source": [
    "import glob\n",
    "\n",
    "import tensorflow as tf\n",
    "import numpy as np\n",
    "from tensorflow.keras.layers import Dense, Conv2D, MaxPooling2D, Flatten, Dropout, BatchNormalization, ZeroPadding2D,MaxPool2D,SeparableConv2D\n",
    "from tensorflow.keras.preprocessing.image import ImageDataGenerator\n",
    "from tensorflow.keras.callbacks import ModelCheckpoint, ReduceLROnPlateau, EarlyStopping\n",
    "from sklearn.utils import class_weight\n",
    "import matplotlib.pyplot as plt\n"
   ]
  },
  {
   "cell_type": "code",
   "execution_count": 2,
   "metadata": {},
   "outputs": [],
   "source": [
    "PATH = './chest_xray/'\n",
    "\n",
    "TRAIN_DATA_DIR = PATH + 'train'\n",
    "TEST_DATA_DIR = PATH + 'test'\n",
    "\n",
    "TRAIN_DATA_NORMAL_FILE = PATH + 'train/NORMAL/'\n",
    "TRAIN_DATA_PNEUMONIA_FILE = PATH + 'train/PNEUMONIA/'\n",
    "VAL_DATA_NORMAL_FILE = PATH + 'val/NORMAL/'\n",
    "VAL_DATA_PNEUMONIA_FILE = PATH + 'val/PNEUMONIA/'\n",
    "TEST_DATA_NORMAL_FILE = PATH + 'test/NORMAL/'\n",
    "TEST_DATA_PNEUMONIA_FILE = PATH + 'test/PNEUMONIA/'\n",
    "\n",
    "IMAGE_SIZE = (256,256)\n",
    "BATCH_SIZE = 32\n",
    "EPOCHS = 10"
   ]
  },
  {
   "cell_type": "code",
   "execution_count": 3,
   "metadata": {},
   "outputs": [],
   "source": [
    "train_data_normal = glob.glob(TRAIN_DATA_NORMAL_FILE + '*jpeg')\n",
    "train_data_pneumonia = glob.glob(TRAIN_DATA_PNEUMONIA_FILE + '*jpeg')\n",
    "val_data_normal = glob.glob(VAL_DATA_NORMAL_FILE + '*jpeg')\n",
    "val_data_pneumonia = glob.glob(VAL_DATA_PNEUMONIA_FILE + '*jpeg')\n",
    "test_data_normal = glob.glob(TEST_DATA_NORMAL_FILE + '*jpeg')\n",
    "test_data_pneumonia = glob.glob(TEST_DATA_PNEUMONIA_FILE + '*jpeg')"
   ]
  },
  {
   "cell_type": "code",
   "execution_count": 4,
   "metadata": {},
   "outputs": [
    {
     "name": "stdout",
     "output_type": "stream",
     "text": [
      "TEST DATA\n",
      "Normal: 1341 Pneumonia: 3875\n",
      "\n",
      "VALIDATION DATA\n",
      "Normal: 8 Pneumonia: 8\n",
      "\n",
      "TEST DATA\n",
      "Normal: 234 Pneumonia: 390\n"
     ]
    }
   ],
   "source": [
    "print(\"TEST DATA\")\n",
    "print(\"Normal: {} Pneumonia: {}\".format(len(train_data_normal),len(train_data_pneumonia)))\n",
    "print(\"\\nVALIDATION DATA\")\n",
    "print(\"Normal: {} Pneumonia: {}\".format(len(val_data_normal),len(val_data_pneumonia)))\n",
    "print(\"\\nTEST DATA\")\n",
    "print(\"Normal: {} Pneumonia: {}\".format(len(test_data_normal),len(test_data_pneumonia)))"
   ]
  },
  {
   "cell_type": "code",
   "execution_count": 5,
   "metadata": {},
   "outputs": [],
   "source": [
    "# train_data_generator = ImageDataGenerator(rescale = 1/255, zoom_range=0.3, vertical_flip=True)\n",
    "\n",
    "train_data_generator=ImageDataGenerator(rescale=1.0/255,\n",
    "                                 rotation_range=30,\n",
    "                                 width_shift_range=0.2,\n",
    "                                 height_shift_range=0.2,\n",
    "                                 zoom_range=0.2,\n",
    "                                 )\n",
    "\n",
    "test_data_generator = ImageDataGenerator(rescale = 1/255)"
   ]
  },
  {
   "cell_type": "code",
   "execution_count": 6,
   "metadata": {},
   "outputs": [
    {
     "name": "stdout",
     "output_type": "stream",
     "text": [
      "Found 5216 images belonging to 2 classes.\n",
      "Found 624 images belonging to 2 classes.\n"
     ]
    }
   ],
   "source": [
    "\n",
    "train_generator = train_data_generator.flow_from_directory(\n",
    "        TRAIN_DATA_DIR,\n",
    "        target_size = IMAGE_SIZE,\n",
    "        batch_size = BATCH_SIZE,\n",
    "        class_mode = 'binary')\n",
    "\n",
    "test_generator = test_data_generator.flow_from_directory(\n",
    "        TEST_DATA_DIR,\n",
    "        target_size = IMAGE_SIZE,\n",
    "        batch_size = BATCH_SIZE,\n",
    "        class_mode = 'binary')"
   ]
  },
  {
   "cell_type": "markdown",
   "metadata": {},
   "source": [
    "\n",
    "model = tf.keras.models.Sequential([\n",
    "    tf.keras.layers.Conv2D(32, (3,3), activation='relu',input_shape=(200, 200, 3)),\n",
    "    tf.keras.layers.MaxPooling2D(2, 2),\n",
    "    \n",
    "    tf.keras.layers.Conv2D(64, (3,3), activation='relu'),\n",
    "    tf.keras.layers.MaxPooling2D(2,2),\n",
    "    \n",
    "    tf.keras.layers.Conv2D(64, (3,3), activation='relu'),\n",
    "    tf.keras.layers.MaxPooling2D(2,2),\n",
    "    \n",
    "    tf.keras.layers.Conv2D(128, (3,3), activation='relu'),\n",
    "    tf.keras.layers.MaxPooling2D(2,2),\n",
    "    \n",
    "    tf.keras.layers.SeparableConv2D(128, (3,3), activation='relu'),\n",
    "    tf.keras.layers.MaxPooling2D(2,2),\n",
    "    \n",
    "    tf.keras.layers.Flatten(),\n",
    "    tf.keras.layers.Dropout(0.5),\n",
    "    tf.keras.layers.Dense(512, activation='relu'),\n",
    "    tf.keras.layers.Dense(1, activation='sigmoid')\n",
    "])"
   ]
  },
  {
   "cell_type": "markdown",
   "metadata": {},
   "source": [
    "model = tf.keras.models.Sequential()\n",
    "\n",
    "model.add(Conv2D(32, kernel_size=(3, 3), activation='relu', input_shape=(200, 200, 3)))\n",
    "model.add(MaxPooling2D((2, 2)))\n",
    "\n",
    "model.add(Conv2D(64, kernel_size=(3, 3), activation='relu'))\n",
    "model.add(MaxPooling2D(pool_size=(2, 2)))\n",
    "\n",
    "model.add(Conv2D(128, kernel_size=(3, 3), activation='relu'))\n",
    "\n",
    "model.add(Flatten())\n",
    "\n",
    "model.add(Dropout(0.5))\n",
    "model.add(Dense(64, activation='relu'))\n",
    "model.add(Dropout(0.5))\n",
    "model.add(Dense(1, activation='sigmoid'))\n",
    "\n"
   ]
  },
  {
   "cell_type": "code",
   "execution_count": 7,
   "metadata": {},
   "outputs": [],
   "source": [
    "\n",
    "model = tf.keras.models.Sequential([\n",
    "    tf.keras.layers.Conv2D(16, (3,3), activation='relu', input_shape=(256, 256, 3)),\n",
    "    tf.keras.layers.MaxPooling2D(2, 2),\n",
    "    tf.keras.layers.Dropout(0.25),\n",
    "    \n",
    "    tf.keras.layers.Conv2D(32, (3,3), activation='relu'),\n",
    "    tf.keras.layers.MaxPooling2D(2,2),\n",
    "    tf.keras.layers.Dropout(0.25),\n",
    "    \n",
    "    tf.keras.layers.Conv2D(64, (3,3), activation='relu'),\n",
    "    tf.keras.layers.MaxPooling2D(2,2),\n",
    "    tf.keras.layers.Dropout(0.25),\n",
    "    \n",
    "    tf.keras.layers.Conv2D(64, (3,3), activation='relu'),\n",
    "    tf.keras.layers.MaxPooling2D(2,2),\n",
    "    tf.keras.layers.Dropout(0.25),\n",
    "    \n",
    "    tf.keras.layers.Conv2D(64, (3,3), activation='relu'),\n",
    "    tf.keras.layers.MaxPooling2D(2,2),\n",
    "    tf.keras.layers.Dropout(0.25),\n",
    "    \n",
    "    tf.keras.layers.Flatten(),\n",
    "    tf.keras.layers.Dense(512, activation='relu'),\n",
    "    tf.keras.layers.Dropout(0.25),\n",
    "    tf.keras.layers.Dense(1, activation='sigmoid')\n",
    "])"
   ]
  },
  {
   "cell_type": "code",
   "execution_count": 8,
   "metadata": {},
   "outputs": [],
   "source": [
    "from tensorflow.keras.optimizers import RMSprop\n",
    "model.compile(loss='binary_crossentropy', optimizer=RMSprop(lr=0.001),metrics=['accuracy'])"
   ]
  },
  {
   "cell_type": "code",
   "execution_count": 9,
   "metadata": {},
   "outputs": [
    {
     "name": "stderr",
     "output_type": "stream",
     "text": [
      "/Users/kolevak/opt/miniconda3/lib/python3.8/site-packages/sklearn/utils/validation.py:70: FutureWarning: Pass classes=[0 1], y=[0 0 0 ... 1 1 1] as keyword args. From version 1.0 (renaming of 0.25) passing these as positional arguments will result in an error\n",
      "  warnings.warn(f\"Pass {args_msg} as keyword args. From version \"\n"
     ]
    }
   ],
   "source": [
    "class_weights = class_weight.compute_class_weight(\n",
    "           'balanced',\n",
    "            np.unique(train_generator.classes), \n",
    "            train_generator.classes)\n"
   ]
  },
  {
   "cell_type": "code",
   "execution_count": 10,
   "metadata": {},
   "outputs": [
    {
     "name": "stdout",
     "output_type": "stream",
     "text": [
      "Epoch 1/10\n",
      "163/163 [==============================] - 179s 1s/step - loss: 0.8619 - accuracy: 0.7278 - val_loss: 0.4581 - val_accuracy: 0.8093\n",
      "Epoch 2/10\n",
      "163/163 [==============================] - 190s 1s/step - loss: 0.3596 - accuracy: 0.8389 - val_loss: 0.3956 - val_accuracy: 0.8510\n",
      "Epoch 3/10\n",
      "163/163 [==============================] - 193s 1s/step - loss: 0.3010 - accuracy: 0.8721 - val_loss: 0.4523 - val_accuracy: 0.8109\n",
      "Epoch 4/10\n",
      "163/163 [==============================] - 191s 1s/step - loss: 0.2771 - accuracy: 0.8751 - val_loss: 0.5137 - val_accuracy: 0.7276\n",
      "Epoch 5/10\n",
      "163/163 [==============================] - 195s 1s/step - loss: 0.2815 - accuracy: 0.8774 - val_loss: 0.3971 - val_accuracy: 0.8109\n",
      "Epoch 6/10\n",
      "163/163 [==============================] - 204s 1s/step - loss: 0.2785 - accuracy: 0.8851 - val_loss: 0.3952 - val_accuracy: 0.8446\n",
      "Epoch 7/10\n",
      "163/163 [==============================] - 197s 1s/step - loss: 0.2668 - accuracy: 0.8834 - val_loss: 0.3697 - val_accuracy: 0.8654\n",
      "Epoch 8/10\n",
      "163/163 [==============================] - 211s 1s/step - loss: 0.2296 - accuracy: 0.9092 - val_loss: 0.4015 - val_accuracy: 0.7965\n",
      "Epoch 9/10\n",
      "163/163 [==============================] - 207s 1s/step - loss: 0.2360 - accuracy: 0.8995 - val_loss: 0.3193 - val_accuracy: 0.8894\n",
      "Epoch 10/10\n",
      "163/163 [==============================] - 187s 1s/step - loss: 0.2401 - accuracy: 0.8980 - val_loss: 0.3622 - val_accuracy: 0.8590\n"
     ]
    }
   ],
   "source": [
    "\n",
    "history=model.fit(train_generator, epochs = EPOCHS, validation_data = test_generator)"
   ]
  },
  {
   "cell_type": "code",
   "execution_count": 12,
   "metadata": {},
   "outputs": [],
   "source": [
    "model.save(\"pneumonia_model.h5\")"
   ]
  },
  {
   "cell_type": "code",
   "execution_count": 19,
   "metadata": {},
   "outputs": [
    {
     "data": {
      "text/plain": [
       "<Figure size 432x288 with 0 Axes>"
      ]
     },
     "execution_count": 19,
     "metadata": {},
     "output_type": "execute_result"
    },
    {
     "data": {
      "image/png": "[encoded data removed]",
      "text/plain": [
       "<Figure size 432x288 with 1 Axes>"
      ]
     },
     "metadata": {
      "needs_background": "light"
     },
     "output_type": "display_data"
    },
    {
     "data": {
      "text/plain": [
       "<Figure size 432x288 with 0 Axes>"
      ]
     },
     "metadata": {},
     "output_type": "display_data"
    }
   ],
   "source": [
    "acc = history.history['accuracy']\n",
    "val_acc = history.history['val_accuracy']\n",
    "\n",
    "loss = history.history['loss']\n",
    "val_loss = history.history['val_loss']\n",
    "\n",
    "\n",
    "epochs = range(len(acc))\n",
    "\n",
    "plt.plot(range(0, 1))\n",
    "plt.plot(epochs, acc, 'r', label='Training accuracy')\n",
    "plt.plot(epochs, val_acc, 'b', label='Validation accuracy')\n",
    "plt.title('Training and validation accuracy')\n",
    "plt.legend()\n",
    "plt.figure()\n"
   ]
  },
  {
   "cell_type": "code",
   "execution_count": 38,
   "metadata": {},
   "outputs": [],
   "source": [
    "from tensorflow.keras.preprocessing.image import load_img\n",
    "from tensorflow.keras.preprocessing.image import img_to_array\n",
    "from tensorflow.keras.models import load_model\n",
    "\n",
    "def load_image(filename):\n",
    "\t# load the image\n",
    "\timg = load_img(filename, target_size=IMAGE_SIZE)\n",
    "\t# convert to array\n",
    "\timg = img_to_array(img)\n",
    "\t# reshape into a single sample with 3 channels\n",
    "\timg = img.reshape(1,256,256, 3)\n",
    "\t# center pixel data\n",
    "\timg = img.astype('float32')\n",
    "\treturn img"
   ]
  },
  {
   "cell_type": "code",
   "execution_count": 43,
   "metadata": {},
   "outputs": [
    {
     "name": "stdout",
     "output_type": "stream",
     "text": [
      "[[1.]]\n"
     ]
    }
   ],
   "source": [
    "img = load_image(val_data_pneumonia[5])\n",
    "result = model.predict(img)\n",
    "print(result)"
   ]
  },
  {
   "cell_type": "code",
   "execution_count": null,
   "metadata": {},
   "outputs": [],
   "source": []
  }
 ],
 "metadata": {
  "kernelspec": {
   "display_name": "AI_project",
   "language": "python",
   "name": "ai_project"
  },
  "language_info": {
   "codemirror_mode": {
    "name": "ipython",
    "version": 3
   },
   "file_extension": ".py",
   "mimetype": "text/x-python",
   "name": "python",
   "nbconvert_exporter": "python",
   "pygments_lexer": "ipython3",
   "version": "3.8.5"
  }
 },
 "nbformat": 4,
 "nbformat_minor": 4
}
