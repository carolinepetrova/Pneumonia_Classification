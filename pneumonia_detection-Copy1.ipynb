{
 "cells": [
  {
   "cell_type": "code",
   "execution_count": 1,
   "metadata": {},
   "outputs": [],
   "source": [
    "import glob\n",
    "\n",
    "import tensorflow as tf\n",
    "import numpy as np\n",
    "import pandas as pd\n",
    "import cv2\n",
    "import imutils\n",
    "import random\n",
    "from tensorflow import keras\n",
    "from tensorflow.keras.models import Model, Sequential\n",
    "from tensorflow.keras.layers import Input,Dense, Conv2D, MaxPooling2D, Flatten, Dropout, BatchNormalization, ZeroPadding2D,MaxPool2D,SeparableConv2D\n",
    "from tensorflow.keras.preprocessing.image import ImageDataGenerator\n",
    "from tensorflow.keras.callbacks import ModelCheckpoint, ReduceLROnPlateau, EarlyStopping\n",
    "from sklearn.utils import class_weight\n",
    "import matplotlib.pyplot as plt\n",
    "import matplotlib.cm as cm\n",
    "from IPython.display import Image\n",
    "\n"
   ]
  },
  {
   "cell_type": "code",
   "execution_count": 2,
   "metadata": {},
   "outputs": [],
   "source": [
    "PATH = './chest_xray/'\n",
    "\n",
    "TRAIN_DATA_DIR = PATH + 'train'\n",
    "TEST_DATA_DIR = PATH + 'test'\n",
    "VAL_DATA_DIR = PATH + 'val'\n",
    "\n",
    "\n",
    "TRAIN_DATA_NORMAL_FILE = PATH + 'train/NORMAL/'\n",
    "TRAIN_DATA_PNEUMONIA_FILE = PATH + 'train/PNEUMONIA/'\n",
    "VAL_DATA_NORMAL_FILE = PATH + 'val/NORMAL/'\n",
    "VAL_DATA_PNEUMONIA_FILE = PATH + 'val/PNEUMONIA/'\n",
    "TEST_DATA_NORMAL_FILE = PATH + 'test/NORMAL/'\n",
    "TEST_DATA_PNEUMONIA_FILE = PATH + 'test/PNEUMONIA/'\n",
    "\n",
    "IMAGE_SIZE = (256,256)\n",
    "BATCH_SIZE = 32\n",
    "EPOCHS = 10\n",
    "\n",
    "\n",
    "train_data_normal = glob.glob(TRAIN_DATA_NORMAL_FILE + '*jpeg')\n",
    "train_data_pneumonia = glob.glob(TRAIN_DATA_PNEUMONIA_FILE + '*jpeg')\n",
    "val_data_normal = glob.glob(VAL_DATA_NORMAL_FILE + '*jpeg')\n",
    "val_data_pneumonia = glob.glob(VAL_DATA_PNEUMONIA_FILE + '*jpeg')\n",
    "test_data_normal = glob.glob(TEST_DATA_NORMAL_FILE + '*jpeg')\n",
    "test_data_pneumonia = glob.glob(TEST_DATA_PNEUMONIA_FILE + '*jpeg')"
   ]
  },
  {
   "cell_type": "code",
   "execution_count": 3,
   "metadata": {},
   "outputs": [],
   "source": [
    "train_data_generator = ImageDataGenerator(rescale = 1/255)\n",
    "\n",
    "test_data_generator = ImageDataGenerator(rescale = 1/255)"
   ]
  },
  {
   "cell_type": "code",
   "execution_count": 4,
   "metadata": {},
   "outputs": [
    {
     "name": "stdout",
     "output_type": "stream",
     "text": [
      "Found 6788 images belonging to 2 classes.\n",
      "Found 1172 images belonging to 2 classes.\n"
     ]
    }
   ],
   "source": [
    "\n",
    "train_generator = train_data_generator.flow_from_directory(\n",
    "        TRAIN_DATA_DIR,\n",
    "        target_size = IMAGE_SIZE,\n",
    "        batch_size = BATCH_SIZE,\n",
    "        class_mode = 'binary')\n",
    "\n",
    "test_generator = test_data_generator.flow_from_directory(\n",
    "        VAL_DATA_DIR,\n",
    "        target_size = IMAGE_SIZE,\n",
    "        batch_size = BATCH_SIZE,\n",
    "        class_mode = 'binary')"
   ]
  },
  {
   "cell_type": "code",
   "execution_count": 5,
   "metadata": {},
   "outputs": [
    {
     "name": "stdout",
     "output_type": "stream",
     "text": [
      "Model: \"sequential\"\n",
      "_________________________________________________________________\n",
      "Layer (type)                 Output Shape              Param #   \n",
      "=================================================================\n",
      "conv2d (Conv2D)              (None, 256, 256, 8)       224       \n",
      "_________________________________________________________________\n",
      "max_pooling2d (MaxPooling2D) (None, 85, 85, 8)         0         \n",
      "_________________________________________________________________\n",
      "conv2d_1 (Conv2D)            (None, 85, 85, 16)        1168      \n",
      "_________________________________________________________________\n",
      "max_pooling2d_1 (MaxPooling2 (None, 28, 28, 16)        0         \n",
      "_________________________________________________________________\n",
      "conv2d_2 (Conv2D)            (None, 28, 28, 32)        4640      \n",
      "_________________________________________________________________\n",
      "max_pooling2d_2 (MaxPooling2 (None, 14, 14, 32)        0         \n",
      "_________________________________________________________________\n",
      "conv2d_3 (Conv2D)            (None, 14, 14, 64)        18496     \n",
      "_________________________________________________________________\n",
      "max_pooling2d_3 (MaxPooling2 (None, 7, 7, 64)          0         \n",
      "_________________________________________________________________\n",
      "conv2d_4 (Conv2D)            (None, 7, 7, 128)         73856     \n",
      "_________________________________________________________________\n",
      "max_pooling2d_4 (MaxPooling2 (None, 3, 3, 128)         0         \n",
      "_________________________________________________________________\n",
      "flatten (Flatten)            (None, 1152)              0         \n",
      "_________________________________________________________________\n",
      "dense (Dense)                (None, 128)               147584    \n",
      "_________________________________________________________________\n",
      "dense_1 (Dense)              (None, 1)                 129       \n",
      "=================================================================\n",
      "Total params: 246,097\n",
      "Trainable params: 246,097\n",
      "Non-trainable params: 0\n",
      "_________________________________________________________________\n"
     ]
    }
   ],
   "source": [
    "model = tf.keras.models.Sequential([\n",
    "\n",
    "    tf.keras.layers.Conv2D(8, (3,3), padding='same', activation='relu', input_shape=(256,256,3)),\n",
    "    #tf.keras.layers.Conv2D(8, (3,3), padding='same', activation='relu'),\n",
    "    tf.keras.layers.MaxPool2D(3,3),\n",
    "    \n",
    "    # CNN Layer 1\n",
    "    tf.keras.layers.Conv2D(16, (3,3), padding='same', activation='relu'),\n",
    "    #tf.keras.layers.Conv2D(16, (3,3), padding='same', activation='relu'),\n",
    "    tf.keras.layers.MaxPool2D(3,3),\n",
    "    # CNN Layer 2\n",
    "    tf.keras.layers.Conv2D(32, (3,3), padding='same', activation='relu'),\n",
    "    #tf.keras.layers.Conv2D(32, (3,3), padding='same', activation='relu'),\n",
    "    tf.keras.layers.MaxPooling2D(2,2),\n",
    "\n",
    "    # CNN Layer 3\n",
    "    tf.keras.layers.Conv2D(64, (3,3), padding='same', activation='relu'),\n",
    "    #tf.keras.layers.Conv2D(64, (3,3), padding='same', activation='relu'),\n",
    "    tf.keras.layers.MaxPooling2D(2,2),\n",
    "\n",
    "    # CNN Layer 4\n",
    "    tf.keras.layers.Conv2D(128, (3,3), padding='same', activation='relu'),\n",
    "    #tf.keras.layers.Conv2D(128, (3,3), padding='same', activation='relu'),\n",
    "    tf.keras.layers.MaxPooling2D((2, 2)),\n",
    "\n",
    "\n",
    "    # Layer 6\n",
    "    tf.keras.layers.Flatten(),\n",
    "    tf.keras.layers.Dense(128, activation='relu'),\n",
    "    tf.keras.layers.Dense(1, activation='sigmoid')\n",
    "])\n",
    "\n",
    "model.summary()"
   ]
  },
  {
   "cell_type": "code",
   "execution_count": 6,
   "metadata": {},
   "outputs": [],
   "source": [
    "from tensorflow.keras.optimizers import RMSprop\n",
    "model.compile(loss='binary_crossentropy',optimizer=RMSprop(lr=0.0001),metrics=['accuracy'])"
   ]
  },
  {
   "cell_type": "code",
   "execution_count": 7,
   "metadata": {},
   "outputs": [
    {
     "name": "stderr",
     "output_type": "stream",
     "text": [
      "/Users/kolevak/opt/miniconda3/lib/python3.8/site-packages/sklearn/utils/validation.py:70: FutureWarning: Pass classes=[0 1], y=[0 0 0 ... 1 1 1] as keyword args. From version 1.0 (renaming of 0.25) passing these as positional arguments will result in an error\n",
      "  warnings.warn(f\"Pass {args_msg} as keyword args. From version \"\n"
     ]
    }
   ],
   "source": [
    "class_weights = class_weight.compute_class_weight(\n",
    "           'balanced',\n",
    "            np.unique(train_generator.classes), \n",
    "            train_generator.classes)\n"
   ]
  },
  {
   "cell_type": "code",
   "execution_count": 8,
   "metadata": {},
   "outputs": [
    {
     "name": "stdout",
     "output_type": "stream",
     "text": [
      "Epoch 1/10\n",
      "213/213 [==============================] - 129s 604ms/step - loss: 0.5872 - accuracy: 0.6881 - val_loss: 0.4193 - val_accuracy: 0.7969\n",
      "\n",
      "Epoch 00001: val_loss improved from inf to 0.41926, saving model to Pneumonia_new_dataset444.h5\n",
      "Epoch 2/10\n",
      "213/213 [==============================] - 135s 635ms/step - loss: 0.2896 - accuracy: 0.8858 - val_loss: 0.1743 - val_accuracy: 0.9437\n",
      "\n",
      "Epoch 00002: val_loss improved from 0.41926 to 0.17434, saving model to Pneumonia_new_dataset444.h5\n",
      "Epoch 3/10\n",
      "213/213 [==============================] - 129s 606ms/step - loss: 0.2077 - accuracy: 0.9234 - val_loss: 0.1991 - val_accuracy: 0.9215\n",
      "\n",
      "Epoch 00003: val_loss did not improve from 0.17434\n",
      "\n",
      "Epoch 00003: ReduceLROnPlateau reducing learning rate to 2.9999999242136255e-05.\n",
      "Epoch 4/10\n",
      "213/213 [==============================] - 117s 550ms/step - loss: 0.1741 - accuracy: 0.9410 - val_loss: 0.1380 - val_accuracy: 0.9556\n",
      "\n",
      "Epoch 00004: val_loss improved from 0.17434 to 0.13799, saving model to Pneumonia_new_dataset444.h5\n",
      "Epoch 5/10\n",
      "213/213 [==============================] - 120s 564ms/step - loss: 0.1578 - accuracy: 0.9423 - val_loss: 0.1374 - val_accuracy: 0.9514\n",
      "\n",
      "Epoch 00005: val_loss improved from 0.13799 to 0.13740, saving model to Pneumonia_new_dataset444.h5\n",
      "\n",
      "Epoch 00005: ReduceLROnPlateau reducing learning rate to 8.999999772640877e-06.\n",
      "Epoch 6/10\n",
      "213/213 [==============================] - 121s 566ms/step - loss: 0.1531 - accuracy: 0.9425 - val_loss: 0.1255 - val_accuracy: 0.9556\n",
      "\n",
      "Epoch 00006: val_loss improved from 0.13740 to 0.12549, saving model to Pneumonia_new_dataset444.h5\n",
      "Epoch 7/10\n",
      "213/213 [==============================] - 121s 568ms/step - loss: 0.1498 - accuracy: 0.9412 - val_loss: 0.1240 - val_accuracy: 0.9548\n",
      "\n",
      "Epoch 00007: val_loss improved from 0.12549 to 0.12404, saving model to Pneumonia_new_dataset444.h5\n",
      "\n",
      "Epoch 00007: ReduceLROnPlateau reducing learning rate to 2.6999998226528985e-06.\n",
      "Epoch 8/10\n",
      "213/213 [==============================] - 123s 576ms/step - loss: 0.1530 - accuracy: 0.9401 - val_loss: 0.1238 - val_accuracy: 0.9556\n",
      "\n",
      "Epoch 00008: val_loss improved from 0.12404 to 0.12375, saving model to Pneumonia_new_dataset444.h5\n",
      "Epoch 9/10\n",
      "213/213 [==============================] - 122s 571ms/step - loss: 0.1392 - accuracy: 0.9462 - val_loss: 0.1255 - val_accuracy: 0.9531\n",
      "\n",
      "Epoch 00009: val_loss did not improve from 0.12375\n",
      "\n",
      "Epoch 00009: ReduceLROnPlateau reducing learning rate to 8.099999604382901e-07.\n",
      "Epoch 10/10\n",
      "213/213 [==============================] - 120s 566ms/step - loss: 0.1460 - accuracy: 0.9447 - val_loss: 0.1241 - val_accuracy: 0.9556\n",
      "\n",
      "Epoch 00010: val_loss did not improve from 0.12375\n"
     ]
    }
   ],
   "source": [
    "\n",
    "checkpoint = ModelCheckpoint('Pneumonia_new_dataset444.h5', monitor='val_loss', verbose=1, save_best_only=True, mode='auto')\n",
    "lr_reduce = ReduceLROnPlateau(monitor='val_loss', factor=0.3, patience=2, verbose=2, mode='max')\n",
    "\n",
    "history=model.fit(train_generator, \n",
    "                  epochs = EPOCHS, \n",
    "                  validation_data = test_generator, \n",
    "                  callbacks=[checkpoint,lr_reduce])"
   ]
  },
  {
   "cell_type": "code",
   "execution_count": 9,
   "metadata": {},
   "outputs": [],
   "source": [
    "model.save(\"pneumonia_model222.h5\")"
   ]
  },
  {
   "cell_type": "code",
   "execution_count": 10,
   "metadata": {},
   "outputs": [
    {
     "data": {
      "text/plain": [
       "<Figure size 432x288 with 0 Axes>"
      ]
     },
     "execution_count": 10,
     "metadata": {},
     "output_type": "execute_result"
    },
    {
     "data": {
      "image/png": "[encoded data removed]",
      "text/plain": [
       "<Figure size 432x288 with 1 Axes>"
      ]
     },
     "metadata": {
      "needs_background": "light"
     },
     "output_type": "display_data"
    },
    {
     "data": {
      "text/plain": [
       "<Figure size 432x288 with 0 Axes>"
      ]
     },
     "metadata": {},
     "output_type": "display_data"
    }
   ],
   "source": [
    "acc = history.history['accuracy']\n",
    "val_acc = history.history['val_accuracy']\n",
    "\n",
    "loss = history.history['loss']\n",
    "val_loss = history.history['val_loss']\n",
    "\n",
    "\n",
    "epochs = range(len(acc))\n",
    "\n",
    "plt.plot(range(0, 1))\n",
    "plt.plot(epochs, acc, 'r', label='Training accuracy')\n",
    "plt.plot(epochs, val_acc, 'b', label='Validation accuracy')\n",
    "plt.title('Training and validation accuracy')\n",
    "plt.legend()\n",
    "plt.figure()\n"
   ]
  },
  {
   "cell_type": "code",
   "execution_count": 11,
   "metadata": {},
   "outputs": [],
   "source": [
    "from tensorflow.keras.preprocessing.image import load_img\n",
    "from tensorflow.keras.preprocessing.image import img_to_array\n",
    "from tensorflow.keras.models import load_model\n",
    "\n",
    "def load_image(filename):\n",
    "\t# load the image\n",
    "\timg = load_img(filename, target_size=IMAGE_SIZE)\n",
    "\t# convert to array\n",
    "\timg = img_to_array(img)\n",
    "\t# reshape into a single sample with 3 channels\n",
    "\timg = img.reshape(1,256,256, 3)\n",
    "\t# center pixel data\n",
    "\timg = img.astype('float32')\n",
    "\treturn img"
   ]
  },
  {
   "cell_type": "code",
   "execution_count": 57,
   "metadata": {},
   "outputs": [
    {
     "name": "stdout",
     "output_type": "stream",
     "text": [
      "Found 586 images belonging to 2 classes.\n",
      "19/19 [==============================] - 8s 413ms/step - loss: 0.1631 - accuracy: 0.9403\n"
     ]
    }
   ],
   "source": [
    "\n",
    "test_generator = test_data_generator.flow_from_directory(\n",
    "        TEST_DATA_DIR,\n",
    "        target_size = IMAGE_SIZE,\n",
    "        batch_size = BATCH_SIZE,\n",
    "        class_mode = 'binary')\n",
    "\n",
    "model2 = tf.keras.models.load_model('Pneumonia_new_dataset444-Copy1.h5')\n",
    "\n",
    "test_generator.class_indices\n",
    "result = model2.evaluate(test_generator)"
   ]
  },
  {
   "cell_type": "code",
   "execution_count": 13,
   "metadata": {},
   "outputs": [],
   "source": [
    "normal_test_data = glob.glob('db2/train/NORMAL/*')\n",
    "pneumonia_test_data = glob.glob('db2/train/PNEUMONIA/*')\n",
    "\n",
    "test_df = []\n",
    "for elem in normal_test_data:\n",
    "    test_df.append([elem,0])\n",
    "    \n",
    "for elem in pneumonia_test_data:\n",
    "    test_df.append([elem,1])\n",
    "    \n",
    "random.shuffle(test_df)"
   ]
  },
  {
   "cell_type": "code",
   "execution_count": 47,
   "metadata": {},
   "outputs": [],
   "source": [
    "#!/usr/bin/python\n",
    "# -*- coding: utf-8 -*-\n",
    "preprocess_input = tf.keras.applications.xception.preprocess_input\n",
    "decode_predictions = tf.keras.applications.xception.decode_predictions\n",
    "\n",
    "def find_target_layer(model):\n",
    "    for layer in reversed(model.layers):\n",
    "\n",
    "            # check to see if the layer has a 4D output\n",
    "        if len(layer.output_shape) == 4:\n",
    "            return layer.name\n",
    "\n",
    "\n",
    "def get_img_array(img_path, size):\n",
    "    # `img` is a PIL image of size 299x299\n",
    "    img = keras.preprocessing.image.load_img(img_path, target_size=size)\n",
    "    # `array` is a float32 Numpy array of shape (299, 299, 3)\n",
    "    array = keras.preprocessing.image.img_to_array(img)\n",
    "    # We add a dimension to transform our array into a \"batch\"\n",
    "    # of size (1, 299, 299, 3)\n",
    "    array = np.expand_dims(array, axis=0)\n",
    "    return array\n",
    "\n",
    "\n",
    "def make_gradcam_heatmap(\n",
    "    img_array, model, last_conv_layer_name, classifier_layer_names\n",
    "):\n",
    "    # First, we create a model that maps the input image to the activations\n",
    "    # of the last conv layer\n",
    "    last_conv_layer = model.get_layer(last_conv_layer_name)\n",
    "    last_conv_layer_model = keras.Model(model.inputs, last_conv_layer.output)\n",
    "\n",
    "    # Second, we create a model that maps the activations of the last conv\n",
    "    # layer to the final class predictions\n",
    "    classifier_input = keras.Input(shape=last_conv_layer.output.shape[1:])\n",
    "    x = classifier_input\n",
    "    for layer_name in classifier_layer_names:\n",
    "        x = model.get_layer(layer_name)(x)\n",
    "    classifier_model = keras.Model(classifier_input, x)\n",
    "\n",
    "    # Then, we compute the gradient of the top predicted class for our input image\n",
    "    # with respect to the activations of the last conv layer\n",
    "    with tf.GradientTape() as tape:\n",
    "        # Compute activations of the last conv layer and make the tape watch it\n",
    "        last_conv_layer_output = last_conv_layer_model(img_array)\n",
    "        tape.watch(last_conv_layer_output)\n",
    "        # Compute class predictions\n",
    "        preds = classifier_model(last_conv_layer_output)\n",
    "        top_pred_index = tf.argmax(preds[0])\n",
    "        top_class_channel = preds[:, top_pred_index]\n",
    "\n",
    "    # This is the gradient of the top predicted class with regard to\n",
    "    # the output feature map of the last conv layer\n",
    "    grads = tape.gradient(top_class_channel, last_conv_layer_output)\n",
    "\n",
    "    # This is a vector where each entry is the mean intensity of the gradient\n",
    "    # over a specific feature map channel\n",
    "    pooled_grads = tf.reduce_mean(grads, axis=(0, 1, 2))\n",
    "\n",
    "    # We multiply each channel in the feature map array\n",
    "    # by \"how important this channel is\" with regard to the top predicted class\n",
    "    last_conv_layer_output = last_conv_layer_output.numpy()[0]\n",
    "    pooled_grads = pooled_grads.numpy()\n",
    "    for i in range(pooled_grads.shape[-1]):\n",
    "        last_conv_layer_output[:, :, i] *= pooled_grads[i]\n",
    "\n",
    "    # The channel-wise mean of the resulting feature map\n",
    "    # is our heatmap of class activation\n",
    "    heatmap = np.mean(last_conv_layer_output, axis=-1)\n",
    "\n",
    "    # For visualization purpose, we will also normalize the heatmap between 0 & 1\n",
    "    heatmap = np.maximum(heatmap, 0) / np.max(heatmap)\n",
    "    return heatmap\n"
   ]
  },
  {
   "cell_type": "code",
   "execution_count": 53,
   "metadata": {},
   "outputs": [
    {
     "name": "stdout",
     "output_type": "stream",
     "text": [
      "Predict: [1.] Actual: 1\n"
     ]
    },
    {
     "data": {
      "image/jpeg": "[encoded data removed]",
      "text/plain": [
       "<IPython.core.display.Image object>"
      ]
     },
     "metadata": {},
     "output_type": "display_data"
    },
    {
     "data": {
      "image/png": "[encoded data removed]",
      "text/plain": [
       "<Figure size 432x288 with 1 Axes>"
      ]
     },
     "metadata": {
      "needs_background": "light"
     },
     "output_type": "display_data"
    }
   ],
   "source": [
    "\n",
    "classifier_layer_names = [\n",
    "    'flatten',\n",
    "    'dense',\n",
    "    'dense_1'\n",
    "]\n",
    "\n",
    "# Print what the top predicted class is\n",
    "# 156 160 168 20 21 23 24 25 30 33 36 38 40 43\n",
    "pick = pneumonia_test_data[20]\n",
    "image = load_image(pick)\n",
    "preds = model2.predict(image)\n",
    "plt.imshow(cv2.imread(pick))\n",
    "img_array = preprocess_input(get_img_array(pick, size=IMAGE_SIZE))\n",
    "\n",
    "\n",
    "preds = model2.predict(image)\n",
    "i = np.argmax(preds[0])\n",
    "print(\"Predict: {} Actual: {}\".format(preds[0],1))\n",
    "#print(\"Predicted:\", decode_predictions(preds, top=1)[0])\n",
    "\n",
    "# Generate class activation heatmap\n",
    "heatmap = make_gradcam_heatmap(\n",
    "    img_array, model2, find_target_layer(model2), classifier_layer_names\n",
    ")\n",
    "\n",
    "# Display heatmap\n",
    "# plt.matshow(heatmap)\n",
    "# plt.show()\n",
    "\n",
    "img = keras.preprocessing.image.load_img(pick)\n",
    "img = keras.preprocessing.image.img_to_array(img)\n",
    "\n",
    "# We rescale heatmap to a range 0-255\n",
    "heatmap = np.uint8(255 * heatmap)\n",
    "\n",
    "# We use jet colormap to colorize heatmap\n",
    "jet = cm.get_cmap(\"jet\")\n",
    "\n",
    "# We use RGB values of the colormap\n",
    "jet_colors = jet(np.arange(256))[:, :3]\n",
    "jet_heatmap = jet_colors[heatmap]\n",
    "\n",
    "# We create an image with RGB colorized heatmap\n",
    "jet_heatmap = keras.preprocessing.image.array_to_img(jet_heatmap)\n",
    "jet_heatmap = jet_heatmap.resize((img.shape[1], img.shape[0]))\n",
    "jet_heatmap = keras.preprocessing.image.img_to_array(jet_heatmap)\n",
    "\n",
    "# Superimpose the heatmap on original image\n",
    "superimposed_img = jet_heatmap * 0.4 + img\n",
    "superimposed_img = keras.preprocessing.image.array_to_img(superimposed_img)\n",
    "\n",
    "# Save the superimposed image\n",
    "save_path = \"elephant_cam.jpg\"\n",
    "superimposed_img.save(save_path)\n",
    "\n",
    "# Display Grad CAM\n",
    "display(Image(save_path))"
   ]
  },
  {
   "cell_type": "code",
   "execution_count": null,
   "metadata": {},
   "outputs": [],
   "source": []
  },
  {
   "cell_type": "code",
   "execution_count": null,
   "metadata": {},
   "outputs": [],
   "source": []
  }
 ],
 "metadata": {
  "kernelspec": {
   "display_name": "AI_project",
   "language": "python",
   "name": "ai_project"
  },
  "language_info": {
   "codemirror_mode": {
    "name": "ipython",
    "version": 3
   },
   "file_extension": ".py",
   "mimetype": "text/x-python",
   "name": "python",
   "nbconvert_exporter": "python",
   "pygments_lexer": "ipython3",
   "version": "3.8.5"
  }
 },
 "nbformat": 4,
 "nbformat_minor": 4
}
